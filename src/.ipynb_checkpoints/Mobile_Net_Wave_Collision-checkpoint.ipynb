{
 "cells": [
  {
   "cell_type": "code",
   "execution_count": 1,
   "metadata": {},
   "outputs": [],
   "source": [
    "import numpy as np\n",
    "from tensorflow.keras.models import Sequential\n",
    "from tensorflow.keras.layers import Conv2D, MaxPooling2D\n",
    "from tensorflow.keras.layers import Activation, Dropout, Flatten, Dense\n",
    "from tensorflow.keras.models import Model\n",
    "from tensorflow.keras import backend as K\n",
    "from tensorflow.keras.optimizers import SGD\n",
    "from tensorflow.keras.layers import Dense, GlobalAveragePooling2D, Input\n",
    "from tensorflow.keras.applications.inception_v3 import InceptionV3\n",
    "from tensorflow.keras.applications.resnet50 import ResNet50, preprocess_input\n",
    "from tensorflow.keras.applications import MobileNet\n",
    "from tensorflow.keras.preprocessing.image import (ImageDataGenerator, Iterator,\n",
    "                                       array_to_img, img_to_array, load_img)\n",
    "from tensorflow.keras.callbacks import ModelCheckpoint, TensorBoard, EarlyStopping\n",
    "from tensorflow.keras.optimizers import SGD, Adam\n",
    "import sys, os\n",
    "import tensorflow as tf\n",
    "import matplotlib.pyplot as plt\n",
    "from sklearn import metrics\n",
    "\n",
    "\n",
    "os.environ[\"CUDA_DEVICE_ORDER\"] = \"PCI_BUS_ID\"   # see issue #152\n",
    "os.environ[\"CUDA_VISIBLE_DEVICES\"] = \"3\""
   ]
  },
  {
   "cell_type": "code",
   "execution_count": 2,
   "metadata": {},
   "outputs": [
    {
     "data": {
      "text/plain": [
       "'2.2.0'"
      ]
     },
     "execution_count": 2,
     "metadata": {},
     "output_type": "execute_result"
    }
   ],
   "source": [
    "tf.__version__"
   ]
  },
  {
   "cell_type": "code",
   "execution_count": 3,
   "metadata": {},
   "outputs": [],
   "source": [
    "%matplotlib inline"
   ]
  },
  {
   "cell_type": "code",
   "execution_count": 4,
   "metadata": {},
   "outputs": [],
   "source": [
    "# os.environ['TF_FORCE_GPU_ALLOW_GROWTH'] = 'true'"
   ]
  },
  {
   "cell_type": "markdown",
   "metadata": {},
   "source": [
    "### Data Generator"
   ]
  },
  {
   "cell_type": "code",
   "execution_count": 5,
   "metadata": {},
   "outputs": [],
   "source": [
    "train_data_dir = '../data/CollisionData/'\n",
    "\n",
    "img_width, img_height = 224, 224\n",
    "nb_train_samples = 730 \n",
    "nb_validation_samples = 181\n",
    "epochs = 10\n",
    "batch_size = 16\n",
    "\n",
    "if K.image_data_format() == 'channels_first': \n",
    "    input_shape = (3, img_width, img_height) \n",
    "else: \n",
    "    input_shape = (img_width, img_height, 3) "
   ]
  },
  {
   "cell_type": "code",
   "execution_count": 6,
   "metadata": {},
   "outputs": [
    {
     "name": "stdout",
     "output_type": "stream",
     "text": [
      "Found 730 images belonging to 2 classes.\n",
      "Found 181 images belonging to 2 classes.\n"
     ]
    }
   ],
   "source": [
    "train_datagen = ImageDataGenerator(rescale=1./255,\n",
    "    shear_range=0.2,\n",
    "    zoom_range=0.2,\n",
    "    horizontal_flip=True,\n",
    "    validation_split=0.2,\n",
    "    ) # set validation split\n",
    "\n",
    "train_generator = train_datagen.flow_from_directory(\n",
    "    train_data_dir,\n",
    "    target_size=(img_height, img_width),\n",
    "    batch_size=batch_size,\n",
    "    class_mode='binary',\n",
    "    subset='training') # set as training data\n",
    "\n",
    "validation_generator = train_datagen.flow_from_directory(\n",
    "    train_data_dir, # same directory as training data\n",
    "    target_size=(img_height, img_width),\n",
    "    batch_size=batch_size,\n",
    "    class_mode='binary',\n",
    "    shuffle=False,\n",
    "    subset='validation') # set as validation data"
   ]
  },
  {
   "cell_type": "markdown",
   "metadata": {},
   "source": [
    "### Model Architecture\n",
    "MobileNet V1 Base\n",
    "\n",
    "Using imagenet weights as initialization. The entire architecture is retrainable."
   ]
  },
  {
   "cell_type": "code",
   "execution_count": 7,
   "metadata": {},
   "outputs": [],
   "source": [
    "def build_finetune_model(base_model, dropout, fc_layers, num_classes):\n",
    "    for layer in base_model.layers:\n",
    "        layer.trainable = True #change this to False is retraining is not to be done in base layers\n",
    "\n",
    "    x = base_model.output\n",
    "    x = Flatten()(x)\n",
    "    for fc in fc_layers:\n",
    "        # New FC layer, random init\n",
    "        x = Dense(fc, activation='relu')(x) \n",
    "        x = Dropout(dropout)(x)\n",
    "\n",
    "    # New softmax layer\n",
    "    predictions = Dense(1, activation='sigmoid')(x) \n",
    "    \n",
    "    finetune_model = Model(inputs=base_model.input, outputs=predictions)\n",
    "\n",
    "    return finetune_model\n",
    "\n",
    "base_model = MobileNet(weights='imagenet', \n",
    "                      include_top=False, \n",
    "                      input_shape=input_shape)\n",
    "\n",
    "class_list = ['CollisionOrClose', 'NoCollision']\n",
    "FC_LAYERS = [256, 256]\n",
    "dropout = 0.5\n",
    "\n",
    "finetune_model = build_finetune_model(base_model, \n",
    "                                      dropout=dropout, \n",
    "                                      fc_layers=FC_LAYERS, \n",
    "                                      num_classes=len(class_list))"
   ]
  },
  {
   "cell_type": "code",
   "execution_count": 8,
   "metadata": {},
   "outputs": [],
   "source": [
    "adam = Adam(lr=0.00001)\n",
    "finetune_model.compile(adam, loss='binary_crossentropy', metrics=['accuracy'])\n",
    "\n",
    "filepath=\"./checkpoints/\" + \"MobileNetV1\" + \"_model_weights.h5\"\n",
    "checkpoint = ModelCheckpoint(filepath, monitor=[\"acc\"], verbose=1, mode='max')\n",
    "callbacks_list = [checkpoint]"
   ]
  },
  {
   "cell_type": "code",
   "execution_count": 9,
   "metadata": {},
   "outputs": [
    {
     "name": "stdout",
     "output_type": "stream",
     "text": [
      "Model: \"model\"\n",
      "_________________________________________________________________\n",
      "Layer (type)                 Output Shape              Param #   \n",
      "=================================================================\n",
      "input_1 (InputLayer)         [(None, 224, 224, 3)]     0         \n",
      "_________________________________________________________________\n",
      "conv1_pad (ZeroPadding2D)    (None, 225, 225, 3)       0         \n",
      "_________________________________________________________________\n",
      "conv1 (Conv2D)               (None, 112, 112, 32)      864       \n",
      "_________________________________________________________________\n",
      "conv1_bn (BatchNormalization (None, 112, 112, 32)      128       \n",
      "_________________________________________________________________\n",
      "conv1_relu (ReLU)            (None, 112, 112, 32)      0         \n",
      "_________________________________________________________________\n",
      "conv_dw_1 (DepthwiseConv2D)  (None, 112, 112, 32)      288       \n",
      "_________________________________________________________________\n",
      "conv_dw_1_bn (BatchNormaliza (None, 112, 112, 32)      128       \n",
      "_________________________________________________________________\n",
      "conv_dw_1_relu (ReLU)        (None, 112, 112, 32)      0         \n",
      "_________________________________________________________________\n",
      "conv_pw_1 (Conv2D)           (None, 112, 112, 64)      2048      \n",
      "_________________________________________________________________\n",
      "conv_pw_1_bn (BatchNormaliza (None, 112, 112, 64)      256       \n",
      "_________________________________________________________________\n",
      "conv_pw_1_relu (ReLU)        (None, 112, 112, 64)      0         \n",
      "_________________________________________________________________\n",
      "conv_pad_2 (ZeroPadding2D)   (None, 113, 113, 64)      0         \n",
      "_________________________________________________________________\n",
      "conv_dw_2 (DepthwiseConv2D)  (None, 56, 56, 64)        576       \n",
      "_________________________________________________________________\n",
      "conv_dw_2_bn (BatchNormaliza (None, 56, 56, 64)        256       \n",
      "_________________________________________________________________\n",
      "conv_dw_2_relu (ReLU)        (None, 56, 56, 64)        0         \n",
      "_________________________________________________________________\n",
      "conv_pw_2 (Conv2D)           (None, 56, 56, 128)       8192      \n",
      "_________________________________________________________________\n",
      "conv_pw_2_bn (BatchNormaliza (None, 56, 56, 128)       512       \n",
      "_________________________________________________________________\n",
      "conv_pw_2_relu (ReLU)        (None, 56, 56, 128)       0         \n",
      "_________________________________________________________________\n",
      "conv_dw_3 (DepthwiseConv2D)  (None, 56, 56, 128)       1152      \n",
      "_________________________________________________________________\n",
      "conv_dw_3_bn (BatchNormaliza (None, 56, 56, 128)       512       \n",
      "_________________________________________________________________\n",
      "conv_dw_3_relu (ReLU)        (None, 56, 56, 128)       0         \n",
      "_________________________________________________________________\n",
      "conv_pw_3 (Conv2D)           (None, 56, 56, 128)       16384     \n",
      "_________________________________________________________________\n",
      "conv_pw_3_bn (BatchNormaliza (None, 56, 56, 128)       512       \n",
      "_________________________________________________________________\n",
      "conv_pw_3_relu (ReLU)        (None, 56, 56, 128)       0         \n",
      "_________________________________________________________________\n",
      "conv_pad_4 (ZeroPadding2D)   (None, 57, 57, 128)       0         \n",
      "_________________________________________________________________\n",
      "conv_dw_4 (DepthwiseConv2D)  (None, 28, 28, 128)       1152      \n",
      "_________________________________________________________________\n",
      "conv_dw_4_bn (BatchNormaliza (None, 28, 28, 128)       512       \n",
      "_________________________________________________________________\n",
      "conv_dw_4_relu (ReLU)        (None, 28, 28, 128)       0         \n",
      "_________________________________________________________________\n",
      "conv_pw_4 (Conv2D)           (None, 28, 28, 256)       32768     \n",
      "_________________________________________________________________\n",
      "conv_pw_4_bn (BatchNormaliza (None, 28, 28, 256)       1024      \n",
      "_________________________________________________________________\n",
      "conv_pw_4_relu (ReLU)        (None, 28, 28, 256)       0         \n",
      "_________________________________________________________________\n",
      "conv_dw_5 (DepthwiseConv2D)  (None, 28, 28, 256)       2304      \n",
      "_________________________________________________________________\n",
      "conv_dw_5_bn (BatchNormaliza (None, 28, 28, 256)       1024      \n",
      "_________________________________________________________________\n",
      "conv_dw_5_relu (ReLU)        (None, 28, 28, 256)       0         \n",
      "_________________________________________________________________\n",
      "conv_pw_5 (Conv2D)           (None, 28, 28, 256)       65536     \n",
      "_________________________________________________________________\n",
      "conv_pw_5_bn (BatchNormaliza (None, 28, 28, 256)       1024      \n",
      "_________________________________________________________________\n",
      "conv_pw_5_relu (ReLU)        (None, 28, 28, 256)       0         \n",
      "_________________________________________________________________\n",
      "conv_pad_6 (ZeroPadding2D)   (None, 29, 29, 256)       0         \n",
      "_________________________________________________________________\n",
      "conv_dw_6 (DepthwiseConv2D)  (None, 14, 14, 256)       2304      \n",
      "_________________________________________________________________\n",
      "conv_dw_6_bn (BatchNormaliza (None, 14, 14, 256)       1024      \n",
      "_________________________________________________________________\n",
      "conv_dw_6_relu (ReLU)        (None, 14, 14, 256)       0         \n",
      "_________________________________________________________________\n",
      "conv_pw_6 (Conv2D)           (None, 14, 14, 512)       131072    \n",
      "_________________________________________________________________\n",
      "conv_pw_6_bn (BatchNormaliza (None, 14, 14, 512)       2048      \n",
      "_________________________________________________________________\n",
      "conv_pw_6_relu (ReLU)        (None, 14, 14, 512)       0         \n",
      "_________________________________________________________________\n",
      "conv_dw_7 (DepthwiseConv2D)  (None, 14, 14, 512)       4608      \n",
      "_________________________________________________________________\n",
      "conv_dw_7_bn (BatchNormaliza (None, 14, 14, 512)       2048      \n",
      "_________________________________________________________________\n",
      "conv_dw_7_relu (ReLU)        (None, 14, 14, 512)       0         \n",
      "_________________________________________________________________\n",
      "conv_pw_7 (Conv2D)           (None, 14, 14, 512)       262144    \n",
      "_________________________________________________________________\n",
      "conv_pw_7_bn (BatchNormaliza (None, 14, 14, 512)       2048      \n",
      "_________________________________________________________________\n",
      "conv_pw_7_relu (ReLU)        (None, 14, 14, 512)       0         \n",
      "_________________________________________________________________\n",
      "conv_dw_8 (DepthwiseConv2D)  (None, 14, 14, 512)       4608      \n",
      "_________________________________________________________________\n",
      "conv_dw_8_bn (BatchNormaliza (None, 14, 14, 512)       2048      \n",
      "_________________________________________________________________\n",
      "conv_dw_8_relu (ReLU)        (None, 14, 14, 512)       0         \n",
      "_________________________________________________________________\n",
      "conv_pw_8 (Conv2D)           (None, 14, 14, 512)       262144    \n",
      "_________________________________________________________________\n",
      "conv_pw_8_bn (BatchNormaliza (None, 14, 14, 512)       2048      \n",
      "_________________________________________________________________\n",
      "conv_pw_8_relu (ReLU)        (None, 14, 14, 512)       0         \n",
      "_________________________________________________________________\n",
      "conv_dw_9 (DepthwiseConv2D)  (None, 14, 14, 512)       4608      \n",
      "_________________________________________________________________\n",
      "conv_dw_9_bn (BatchNormaliza (None, 14, 14, 512)       2048      \n",
      "_________________________________________________________________\n",
      "conv_dw_9_relu (ReLU)        (None, 14, 14, 512)       0         \n",
      "_________________________________________________________________\n",
      "conv_pw_9 (Conv2D)           (None, 14, 14, 512)       262144    \n",
      "_________________________________________________________________\n",
      "conv_pw_9_bn (BatchNormaliza (None, 14, 14, 512)       2048      \n",
      "_________________________________________________________________\n",
      "conv_pw_9_relu (ReLU)        (None, 14, 14, 512)       0         \n",
      "_________________________________________________________________\n",
      "conv_dw_10 (DepthwiseConv2D) (None, 14, 14, 512)       4608      \n",
      "_________________________________________________________________\n",
      "conv_dw_10_bn (BatchNormaliz (None, 14, 14, 512)       2048      \n",
      "_________________________________________________________________\n",
      "conv_dw_10_relu (ReLU)       (None, 14, 14, 512)       0         \n",
      "_________________________________________________________________\n",
      "conv_pw_10 (Conv2D)          (None, 14, 14, 512)       262144    \n",
      "_________________________________________________________________\n",
      "conv_pw_10_bn (BatchNormaliz (None, 14, 14, 512)       2048      \n",
      "_________________________________________________________________\n",
      "conv_pw_10_relu (ReLU)       (None, 14, 14, 512)       0         \n",
      "_________________________________________________________________\n",
      "conv_dw_11 (DepthwiseConv2D) (None, 14, 14, 512)       4608      \n",
      "_________________________________________________________________\n",
      "conv_dw_11_bn (BatchNormaliz (None, 14, 14, 512)       2048      \n",
      "_________________________________________________________________\n",
      "conv_dw_11_relu (ReLU)       (None, 14, 14, 512)       0         \n",
      "_________________________________________________________________\n",
      "conv_pw_11 (Conv2D)          (None, 14, 14, 512)       262144    \n",
      "_________________________________________________________________\n",
      "conv_pw_11_bn (BatchNormaliz (None, 14, 14, 512)       2048      \n",
      "_________________________________________________________________\n",
      "conv_pw_11_relu (ReLU)       (None, 14, 14, 512)       0         \n",
      "_________________________________________________________________\n",
      "conv_pad_12 (ZeroPadding2D)  (None, 15, 15, 512)       0         \n",
      "_________________________________________________________________\n",
      "conv_dw_12 (DepthwiseConv2D) (None, 7, 7, 512)         4608      \n",
      "_________________________________________________________________\n",
      "conv_dw_12_bn (BatchNormaliz (None, 7, 7, 512)         2048      \n",
      "_________________________________________________________________\n",
      "conv_dw_12_relu (ReLU)       (None, 7, 7, 512)         0         \n",
      "_________________________________________________________________\n",
      "conv_pw_12 (Conv2D)          (None, 7, 7, 1024)        524288    \n",
      "_________________________________________________________________\n",
      "conv_pw_12_bn (BatchNormaliz (None, 7, 7, 1024)        4096      \n",
      "_________________________________________________________________\n",
      "conv_pw_12_relu (ReLU)       (None, 7, 7, 1024)        0         \n",
      "_________________________________________________________________\n",
      "conv_dw_13 (DepthwiseConv2D) (None, 7, 7, 1024)        9216      \n",
      "_________________________________________________________________\n",
      "conv_dw_13_bn (BatchNormaliz (None, 7, 7, 1024)        4096      \n",
      "_________________________________________________________________\n",
      "conv_dw_13_relu (ReLU)       (None, 7, 7, 1024)        0         \n",
      "_________________________________________________________________\n",
      "conv_pw_13 (Conv2D)          (None, 7, 7, 1024)        1048576   \n",
      "_________________________________________________________________\n",
      "conv_pw_13_bn (BatchNormaliz (None, 7, 7, 1024)        4096      \n",
      "_________________________________________________________________\n",
      "conv_pw_13_relu (ReLU)       (None, 7, 7, 1024)        0         \n",
      "_________________________________________________________________\n",
      "flatten (Flatten)            (None, 50176)             0         \n",
      "_________________________________________________________________\n",
      "dense (Dense)                (None, 256)               12845312  \n",
      "_________________________________________________________________\n",
      "dropout (Dropout)            (None, 256)               0         \n",
      "_________________________________________________________________\n",
      "dense_1 (Dense)              (None, 256)               65792     \n",
      "_________________________________________________________________\n",
      "dropout_1 (Dropout)          (None, 256)               0         \n",
      "_________________________________________________________________\n",
      "dense_2 (Dense)              (None, 1)                 257       \n",
      "=================================================================\n",
      "Total params: 16,140,225\n",
      "Trainable params: 16,118,337\n",
      "Non-trainable params: 21,888\n",
      "_________________________________________________________________\n"
     ]
    }
   ],
   "source": [
    "finetune_model.summary()"
   ]
  },
  {
   "cell_type": "markdown",
   "metadata": {},
   "source": [
    "### Model Size"
   ]
  },
  {
   "cell_type": "code",
   "execution_count": 12,
   "metadata": {},
   "outputs": [
    {
     "name": "stdout",
     "output_type": "stream",
     "text": [
      "Model Size(mb): 67\n"
     ]
    }
   ],
   "source": [
    "shapes_count = int(np.sum([np.prod(np.array([s if isinstance(s, int) else 1 for s in l.output_shape])) for l in finetune_model.layers]))\n",
    "memory = shapes_count * 4\n",
    "\n",
    "print (\"Model Size(mb): %d\" % (memory/1000000))"
   ]
  },
  {
   "cell_type": "code",
   "execution_count": 11,
   "metadata": {},
   "outputs": [
    {
     "name": "stdout",
     "output_type": "stream",
     "text": [
      "Total params: 16,140,225\n",
      "Trainable params: 16,118,337\n",
      "Non-trainable params: 21,888\n"
     ]
    }
   ],
   "source": [
    "trainable_count = np.sum([K.count_params(w) for w in finetune_model.trainable_weights])\n",
    "non_trainable_count = np.sum([K.count_params(w) for w in finetune_model.non_trainable_weights])\n",
    "\n",
    "print('Total params: {:,}'.format(trainable_count + non_trainable_count))\n",
    "print('Trainable params: {:,}'.format(trainable_count))\n",
    "print('Non-trainable params: {:,}'.format(non_trainable_count))"
   ]
  },
  {
   "cell_type": "markdown",
   "metadata": {},
   "source": [
    "### Training and Testing"
   ]
  },
  {
   "cell_type": "code",
   "execution_count": 13,
   "metadata": {},
   "outputs": [
    {
     "name": "stdout",
     "output_type": "stream",
     "text": [
      "WARNING:tensorflow:From <ipython-input-13-8649367d8c28>:4: Model.fit_generator (from tensorflow.python.keras.engine.training) is deprecated and will be removed in a future version.\n",
      "Instructions for updating:\n",
      "Please use Model.fit, which supports generators.\n",
      "Epoch 1/10\n",
      "45/45 [==============================] - 16s 351ms/step - loss: 0.9170 - accuracy: 0.7213 - val_loss: 0.4882 - val_accuracy: 0.7841\n",
      "Epoch 2/10\n",
      "45/45 [==============================] - 15s 339ms/step - loss: 0.5381 - accuracy: 0.7955 - val_loss: 0.3164 - val_accuracy: 0.8409\n",
      "Epoch 3/10\n",
      "45/45 [==============================] - 15s 342ms/step - loss: 0.5090 - accuracy: 0.8069 - val_loss: 0.2904 - val_accuracy: 0.8636\n",
      "Epoch 4/10\n",
      "45/45 [==============================] - 15s 336ms/step - loss: 0.4049 - accuracy: 0.8361 - val_loss: 0.2291 - val_accuracy: 0.8864\n",
      "Epoch 5/10\n",
      "45/45 [==============================] - 15s 335ms/step - loss: 0.3884 - accuracy: 0.8501 - val_loss: 0.1943 - val_accuracy: 0.9148\n",
      "Epoch 6/10\n",
      "45/45 [==============================] - 15s 337ms/step - loss: 0.3298 - accuracy: 0.8627 - val_loss: 0.2221 - val_accuracy: 0.9148\n",
      "Epoch 7/10\n",
      "45/45 [==============================] - 15s 338ms/step - loss: 0.3112 - accuracy: 0.8880 - val_loss: 0.2682 - val_accuracy: 0.8807\n",
      "Epoch 8/10\n",
      "45/45 [==============================] - 15s 334ms/step - loss: 0.2969 - accuracy: 0.8683 - val_loss: 0.2305 - val_accuracy: 0.8750\n",
      "Epoch 9/10\n",
      "45/45 [==============================] - 15s 338ms/step - loss: 0.2920 - accuracy: 0.8810 - val_loss: 0.2031 - val_accuracy: 0.8807\n",
      "Epoch 10/10\n",
      "45/45 [==============================] - 15s 336ms/step - loss: 0.2771 - accuracy: 0.8880 - val_loss: 0.2804 - val_accuracy: 0.8295\n"
     ]
    }
   ],
   "source": [
    "history = finetune_model.fit_generator(train_generator, \n",
    "    steps_per_epoch = nb_train_samples // batch_size, \n",
    "    epochs = epochs, validation_data = validation_generator, \n",
    "    validation_steps = nb_validation_samples // batch_size, shuffle=True,) "
   ]
  },
  {
   "cell_type": "markdown",
   "metadata": {},
   "source": [
    "### Performance"
   ]
  },
  {
   "cell_type": "code",
   "execution_count": 14,
   "metadata": {},
   "outputs": [
    {
     "data": {
      "image/png": "[encoded data removed]",
      "text/plain": [
       "<Figure size 1080x1080 with 2 Axes>"
      ]
     },
     "metadata": {
      "needs_background": "light"
     },
     "output_type": "display_data"
    }
   ],
   "source": [
    "acc = history.history['accuracy']\n",
    "val_acc = history.history['val_accuracy']\n",
    "\n",
    "loss=history.history['loss']\n",
    "val_loss=history.history['val_loss']\n",
    "\n",
    "epochs_range = range(epochs)\n",
    "\n",
    "plt.figure(figsize=(15, 15))\n",
    "plt.subplot(1, 2, 1)\n",
    "plt.plot(epochs_range, acc, label='Training Accuracy')\n",
    "plt.plot(epochs_range, val_acc, label='Validation Accuracy')\n",
    "plt.legend(loc='lower right')\n",
    "plt.title('Training and Validation Accuracy')\n",
    "\n",
    "plt.subplot(1, 2, 2)\n",
    "plt.plot(epochs_range, loss, label='Training Loss')\n",
    "plt.plot(epochs_range, val_loss, label='Validation Loss')\n",
    "plt.legend(loc='upper right')\n",
    "plt.title('Training and Validation Loss')\n",
    "plt.show()"
   ]
  },
  {
   "cell_type": "code",
   "execution_count": 17,
   "metadata": {},
   "outputs": [
    {
     "name": "stdout",
     "output_type": "stream",
     "text": [
      "WARNING:tensorflow:From <ipython-input-17-081a5bfe8be4>:4: Model.predict_generator (from tensorflow.python.keras.engine.training) is deprecated and will be removed in a future version.\n",
      "Instructions for updating:\n",
      "Please use Model.predict, which supports generators.\n",
      "[[0.03810709]\n",
      " [0.04772145]\n",
      " [0.7287559 ]\n",
      " [0.04161218]\n",
      " [0.01966427]\n",
      " [0.12871811]\n",
      " [0.04807961]\n",
      " [0.04155701]\n",
      " [0.11064223]\n",
      " [0.14858273]\n",
      " [0.06709319]\n",
      " [0.09493267]\n",
      " [0.15875998]\n",
      " [0.01929321]\n",
      " [0.0606078 ]\n",
      " [0.03747372]\n",
      " [0.07101569]\n",
      " [0.01982132]\n",
      " [0.03053708]\n",
      " [0.49535686]\n",
      " [0.01987488]\n",
      " [0.02236435]\n",
      " [0.07330336]\n",
      " [0.03212777]\n",
      " [0.26483825]\n",
      " [0.02783179]\n",
      " [0.01563603]\n",
      " [0.02912439]\n",
      " [0.6122205 ]\n",
      " [0.33770084]\n",
      " [0.04832989]\n",
      " [0.5927688 ]\n",
      " [0.08580695]\n",
      " [0.41902864]\n",
      " [0.02004744]\n",
      " [0.02892522]\n",
      " [0.01741707]\n",
      " [0.03501753]\n",
      " [0.02779967]\n",
      " [0.02150227]\n",
      " [0.08059555]\n",
      " [0.994759  ]\n",
      " [0.98820007]\n",
      " [0.978224  ]\n",
      " [0.9982551 ]\n",
      " [0.98455274]\n",
      " [0.96807253]\n",
      " [0.98644686]\n",
      " [0.9879775 ]\n",
      " [0.98054117]\n",
      " [0.9683147 ]\n",
      " [0.9860212 ]\n",
      " [0.9857266 ]\n",
      " [0.9828463 ]\n",
      " [0.9956923 ]\n",
      " [0.99782974]\n",
      " [0.99226135]\n",
      " [0.9632146 ]\n",
      " [0.9966545 ]\n",
      " [0.98573154]\n",
      " [0.9869006 ]\n",
      " [0.9915039 ]\n",
      " [0.9902873 ]\n",
      " [0.97578967]\n",
      " [0.9810619 ]\n",
      " [0.873016  ]\n",
      " [0.96971905]\n",
      " [0.9982255 ]\n",
      " [0.9966504 ]\n",
      " [0.9814523 ]\n",
      " [0.98482597]\n",
      " [0.99834836]\n",
      " [0.9982054 ]\n",
      " [0.9990582 ]\n",
      " [0.99847835]\n",
      " [0.9980469 ]\n",
      " [0.99961543]\n",
      " [0.9986424 ]\n",
      " [0.99603456]\n",
      " [0.9899502 ]\n",
      " [0.9995055 ]\n",
      " [0.9992943 ]\n",
      " [0.9995852 ]\n",
      " [0.9991347 ]\n",
      " [0.9988815 ]\n",
      " [0.9907155 ]\n",
      " [0.996639  ]\n",
      " [0.99328834]\n",
      " [0.9981529 ]\n",
      " [0.9969309 ]\n",
      " [0.9994388 ]\n",
      " [0.99403423]\n",
      " [0.99866354]\n",
      " [0.9979977 ]\n",
      " [0.9973955 ]\n",
      " [0.9970536 ]\n",
      " [0.9983443 ]\n",
      " [0.99953175]\n",
      " [0.9995448 ]\n",
      " [0.99905664]\n",
      " [0.99741924]\n",
      " [0.10725662]\n",
      " [0.20757502]\n",
      " [0.80551475]\n",
      " [0.5947078 ]\n",
      " [0.31409192]\n",
      " [0.12099693]\n",
      " [0.04210317]\n",
      " [0.6723707 ]\n",
      " [0.7834103 ]\n",
      " [0.43418914]\n",
      " [0.44981563]\n",
      " [0.7028126 ]\n",
      " [0.5071459 ]\n",
      " [0.6675426 ]\n",
      " [0.62072   ]\n",
      " [0.3022529 ]\n",
      " [0.09630357]\n",
      " [0.27586797]\n",
      " [0.9756412 ]\n",
      " [0.1251574 ]\n",
      " [0.1476885 ]\n",
      " [0.07812737]\n",
      " [0.0593503 ]\n",
      " [0.5038403 ]\n",
      " [0.47587892]\n",
      " [0.2967229 ]\n",
      " [0.38413426]\n",
      " [0.6112991 ]\n",
      " [0.96888185]\n",
      " [0.20145687]\n",
      " [0.9401416 ]\n",
      " [0.2537276 ]\n",
      " [0.03471011]\n",
      " [0.9925539 ]\n",
      " [0.9952572 ]\n",
      " [0.95839256]\n",
      " [0.97559196]\n",
      " [0.9915666 ]\n",
      " [0.9922368 ]\n",
      " [0.99653566]\n",
      " [0.9960295 ]\n",
      " [0.9877579 ]\n",
      " [0.9937894 ]\n",
      " [0.9813436 ]\n",
      " [0.9805994 ]\n",
      " [0.99645644]\n",
      " [0.97641504]\n",
      " [0.99658465]\n",
      " [0.9947314 ]\n",
      " [0.95925015]\n",
      " [0.9372961 ]\n",
      " [0.9474508 ]\n",
      " [0.97692776]\n",
      " [0.98866177]\n",
      " [0.9931625 ]\n",
      " [0.9706755 ]\n",
      " [0.9726624 ]\n",
      " [0.99201435]\n",
      " [0.99191475]\n",
      " [0.9897563 ]\n",
      " [0.96930873]\n",
      " [0.9927907 ]\n",
      " [0.98363113]\n",
      " [0.9989477 ]\n",
      " [0.9613613 ]\n",
      " [0.9996977 ]\n",
      " [0.9998529 ]\n",
      " [0.9941764 ]\n",
      " [0.99886096]\n",
      " [0.9907415 ]\n",
      " [0.99921644]\n",
      " [0.99997723]\n",
      " [0.9923414 ]\n",
      " [0.9997842 ]\n",
      " [0.9993992 ]\n",
      " [0.99986887]\n",
      " [0.99770063]\n",
      " [0.9990527 ]\n",
      " [0.9939433 ]\n",
      " [0.9937051 ]]\n"
     ]
    }
   ],
   "source": [
    "from sklearn.metrics import confusion_matrix\n",
    "\n",
    "\n",
    "probabilities = finetune_model.predict_generator(generator=validation_generator)\n",
    "print(probabilities)"
   ]
  },
  {
   "cell_type": "code",
   "execution_count": 18,
   "metadata": {},
   "outputs": [],
   "source": [
    "y_true = validation_generator.classes\n",
    "y_pred = probabilities > 0.5\n",
    "class_labels = list(validation_generator.class_indices.keys())  "
   ]
  },
  {
   "cell_type": "code",
   "execution_count": 19,
   "metadata": {},
   "outputs": [
    {
     "name": "stdout",
     "output_type": "stream",
     "text": [
      "                  precision    recall  f1-score   support\n",
      "\n",
      "CollisionOrClose       0.66      0.93      0.77        41\n",
      "     NoCollision       0.98      0.86      0.91       140\n",
      "\n",
      "        accuracy                           0.87       181\n",
      "       macro avg       0.82      0.89      0.84       181\n",
      "    weighted avg       0.90      0.87      0.88       181\n",
      "\n"
     ]
    }
   ],
   "source": [
    "report = metrics.classification_report(y_true, y_pred, target_names=class_labels)\n",
    "print(report)  "
   ]
  },
  {
   "cell_type": "code",
   "execution_count": 21,
   "metadata": {
    "scrolled": true
   },
   "outputs": [
    {
     "name": "stdout",
     "output_type": "stream",
     "text": [
      "[[ 38   3]\n",
      " [ 20 120]]\n"
     ]
    }
   ],
   "source": [
    "mat = confusion_matrix(y_true, y_pred)\n",
    "print(mat)"
   ]
  },
  {
   "cell_type": "markdown",
   "metadata": {},
   "source": [
    "### Analyze Results"
   ]
  },
  {
   "cell_type": "code",
   "execution_count": 22,
   "metadata": {},
   "outputs": [],
   "source": [
    "def plotImages1(images_arr, y1, y2, row_size):\n",
    "    fig, axes = plt.subplots(1, row_size, figsize=(20,20))\n",
    "    axes = axes.flatten()\n",
    "    for img, l, p, ax in zip(images_arr, y1, y2, axes):\n",
    "        ax.imshow(img)\n",
    "        ax.set_title(\"Label:\"+str(int(l))+\", Pred:\"+str(int(p)))\n",
    "        ax.axis('off')\n",
    "    plt.tight_layout()\n",
    "    plt.show()"
   ]
  },
  {
   "cell_type": "code",
   "execution_count": null,
   "metadata": {
    "scrolled": false
   },
   "outputs": [],
   "source": [
    "cnt = 0\n",
    "row_size = 5\n",
    "validation_generator.reset()\n",
    "fig=plt.figure(figsize=(20,20))\n",
    "\n",
    "ax = []\n",
    "for i in range(10):\n",
    "    x,y = next(validation_generator)\n",
    "    img = x[:row_size]\n",
    "    y_label = y[:row_size]\n",
    "    y_predicted = y_pred[cnt:cnt+row_size]\n",
    "    plotImages1(img, y_label, y_predicted, row_size)\n",
    "    cnt += 16"
   ]
  },
  {
   "cell_type": "code",
   "execution_count": null,
   "metadata": {},
   "outputs": [],
   "source": [
    "labels = (validation_generator.class_indices)"
   ]
  },
  {
   "cell_type": "code",
   "execution_count": null,
   "metadata": {},
   "outputs": [],
   "source": [
    "labels"
   ]
  },
  {
   "cell_type": "code",
   "execution_count": null,
   "metadata": {},
   "outputs": [],
   "source": []
  }
 ],
 "metadata": {
  "kernelspec": {
   "display_name": "python3deep",
   "language": "python",
   "name": "python3deep"
  },
  "language_info": {
   "codemirror_mode": {
    "name": "ipython",
    "version": 3
   },
   "file_extension": ".py",
   "mimetype": "text/x-python",
   "name": "python",
   "nbconvert_exporter": "python",
   "pygments_lexer": "ipython3",
   "version": "3.5.2"
  }
 },
 "nbformat": 4,
 "nbformat_minor": 2
}
